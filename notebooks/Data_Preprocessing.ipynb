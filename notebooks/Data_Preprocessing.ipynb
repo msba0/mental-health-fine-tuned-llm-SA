{
 "cells": [
  {
   "cell_type": "code",
   "execution_count": null,
   "id": "7286376e",
   "metadata": {},
   "outputs": [
    {
     "name": "stdout",
     "output_type": "stream",
     "text": [
      "Repo root in sys.path? True\n",
      "src exists? True\n"
     ]
    }
   ],
   "source": [
    "from pathlib import Path\n",
    "import sys\n",
    "ROOT = Path(\"..\").resolve()          \n",
    "if str(ROOT) not in sys.path:\n",
    "    sys.path.insert(0, str(ROOT))\n",
    "\n",
    "# sanity check\n",
    "import importlib.util, os\n",
    "print(\"Repo root in sys.path?\", str(ROOT) in sys.path)\n",
    "print(\"src exists?\", (ROOT / \"src\").exists())\n"
   ]
  },
  {
   "cell_type": "code",
   "execution_count": null,
   "id": "8d658b88",
   "metadata": {},
   "outputs": [
    {
     "name": "stdout",
     "output_type": "stream",
     "text": [
      "Saved: C:\\Users\\User\\OneDrive\\Desktop\\(ZA4309) Emerging Technologies in Intelligence\\Project\\Fine-tune project\\mental-health-fine-tuned-llm-SA\\data\\processed\\counselchat_train.jsonl (699 rows)\n",
      "Saved: C:\\Users\\User\\OneDrive\\Desktop\\(ZA4309) Emerging Technologies in Intelligence\\Project\\Fine-tune project\\mental-health-fine-tuned-llm-SA\\data\\processed\\counselchat_val.jsonl (78 rows)\n",
      "Train: C:\\Users\\User\\OneDrive\\Desktop\\(ZA4309) Emerging Technologies in Intelligence\\Project\\Fine-tune project\\mental-health-fine-tuned-llm-SA\\data\\processed\\counselchat_train.jsonl\n",
      "Val  : C:\\Users\\User\\OneDrive\\Desktop\\(ZA4309) Emerging Technologies in Intelligence\\Project\\Fine-tune project\\mental-health-fine-tuned-llm-SA\\data\\processed\\counselchat_val.jsonl\n"
     ]
    }
   ],
   "source": [
    "from src.load_datasets import make_counselchat_from_csv\n",
    "from pathlib import Path\n",
    "\n",
    "csv_path = Path(\"../data/raw/counselchat-data.csv\")  \n",
    "train_path, val_path = make_counselchat_from_csv(csv_path, out_prefix=\"counselchat\")\n",
    "print(\"Train:\", train_path)\n",
    "print(\"Val  :\", val_path)\n"
   ]
  },
  {
   "cell_type": "code",
   "execution_count": 3,
   "id": "8b3c0638",
   "metadata": {},
   "outputs": [
    {
     "data": {
      "text/html": [
       "<div>\n",
       "<style scoped>\n",
       "    .dataframe tbody tr th:only-of-type {\n",
       "        vertical-align: middle;\n",
       "    }\n",
       "\n",
       "    .dataframe tbody tr th {\n",
       "        vertical-align: top;\n",
       "    }\n",
       "\n",
       "    .dataframe thead th {\n",
       "        text-align: right;\n",
       "    }\n",
       "</style>\n",
       "<table border=\"1\" class=\"dataframe\">\n",
       "  <thead>\n",
       "    <tr style=\"text-align: right;\">\n",
       "      <th></th>\n",
       "      <th>input</th>\n",
       "      <th>output</th>\n",
       "    </tr>\n",
       "  </thead>\n",
       "  <tbody>\n",
       "    <tr>\n",
       "      <th>232</th>\n",
       "      <td>What does it mean that I feel like different g...</td>\n",
       "      <td>It is ok to tell someone who is casually askin...</td>\n",
       "    </tr>\n",
       "    <tr>\n",
       "      <th>302</th>\n",
       "      <td>How do I get back on my feet while going throu...</td>\n",
       "      <td>Going through a divorce is often a very low po...</td>\n",
       "    </tr>\n",
       "    <tr>\n",
       "      <th>282</th>\n",
       "      <td>Can I go see a psychiatrist without my dad fin...</td>\n",
       "      <td>It might be possible, but it's difficult. Firs...</td>\n",
       "    </tr>\n",
       "    <tr>\n",
       "      <th>456</th>\n",
       "      <td>How do I know if I have social anxiety?\\n\\nI'm...</td>\n",
       "      <td>If you are noticing that anxiety tends to be t...</td>\n",
       "    </tr>\n",
       "    <tr>\n",
       "      <th>680</th>\n",
       "      <td>Should I get a divorce?\\n\\nI have cheated on m...</td>\n",
       "      <td>It may be helpful to have this emotionally imp...</td>\n",
       "    </tr>\n",
       "  </tbody>\n",
       "</table>\n",
       "</div>"
      ],
      "text/plain": [
       "                                                 input  \\\n",
       "232  What does it mean that I feel like different g...   \n",
       "302  How do I get back on my feet while going throu...   \n",
       "282  Can I go see a psychiatrist without my dad fin...   \n",
       "456  How do I know if I have social anxiety?\\n\\nI'm...   \n",
       "680  Should I get a divorce?\\n\\nI have cheated on m...   \n",
       "\n",
       "                                                output  \n",
       "232  It is ok to tell someone who is casually askin...  \n",
       "302  Going through a divorce is often a very low po...  \n",
       "282  It might be possible, but it's difficult. Firs...  \n",
       "456  If you are noticing that anxiety tends to be t...  \n",
       "680  It may be helpful to have this emotionally imp...  "
      ]
     },
     "execution_count": 3,
     "metadata": {},
     "output_type": "execute_result"
    }
   ],
   "source": [
    "import pandas as pd\n",
    "df = pd.read_json(\"../data/processed/counselchat_train.jsonl\", lines=True)\n",
    "df.sample(5)\n"
   ]
  },
  {
   "cell_type": "code",
   "execution_count": 4,
   "id": "811f9cf7",
   "metadata": {},
   "outputs": [
    {
     "name": "stdout",
     "output_type": "stream",
     "text": [
      "Rows: 699\n",
      "Avg input length: 353.6\n",
      "Avg output length: 1048.3\n"
     ]
    }
   ],
   "source": [
    "print(\"Rows:\", len(df))\n",
    "print(\"Avg input length:\", round(df['input'].str.len().mean(), 1))\n",
    "print(\"Avg output length:\", round(df['output'].str.len().mean(), 1))\n"
   ]
  }
 ],
 "metadata": {
  "kernelspec": {
   "display_name": "Python (psyche-R1)",
   "language": "python",
   "name": "psyche-r1"
  },
  "language_info": {
   "codemirror_mode": {
    "name": "ipython",
    "version": 3
   },
   "file_extension": ".py",
   "mimetype": "text/x-python",
   "name": "python",
   "nbconvert_exporter": "python",
   "pygments_lexer": "ipython3",
   "version": "3.10.19"
  }
 },
 "nbformat": 4,
 "nbformat_minor": 5
}
