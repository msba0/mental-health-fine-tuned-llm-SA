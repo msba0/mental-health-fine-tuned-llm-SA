{
 "cells": [
  {
   "cell_type": "markdown",
   "id": "8ae41514",
   "metadata": {},
   "source": [
    "## GPU & Python checks"
   ]
  },
  {
   "cell_type": "code",
   "execution_count": 1,
   "id": "9b3dfab1",
   "metadata": {},
   "outputs": [
    {
     "name": "stdout",
     "output_type": "stream",
     "text": [
      "Python: 3.10.19\n",
      "Platform: Windows-10-10.0.26100-SP0\n",
      "Torch: 2.5.1+cu124\n",
      "CUDA (torch.version.cuda): 12.4\n",
      "CUDA available: True\n",
      "GPU name: NVIDIA GeForce RTX 5060 Laptop GPU\n",
      "GPU capability: (12, 0)\n"
     ]
    },
    {
     "name": "stderr",
     "output_type": "stream",
     "text": [
      "c:\\Users\\User\\miniconda3\\envs\\psyche-r1\\lib\\site-packages\\torch\\cuda\\__init__.py:235: UserWarning: \n",
      "NVIDIA GeForce RTX 5060 Laptop GPU with CUDA capability sm_120 is not compatible with the current PyTorch installation.\n",
      "The current PyTorch install supports CUDA capabilities sm_50 sm_60 sm_61 sm_70 sm_75 sm_80 sm_86 sm_90.\n",
      "If you want to use the NVIDIA GeForce RTX 5060 Laptop GPU GPU with PyTorch, please check the instructions at https://pytorch.org/get-started/locally/\n",
      "\n",
      "  warnings.warn(\n"
     ]
    }
   ],
   "source": [
    "import torch, sys, platform\n",
    "print(\"Python:\", sys.version.split()[0])\n",
    "print(\"Platform:\", platform.platform())\n",
    "print(\"Torch:\", torch.__version__)\n",
    "print(\"CUDA (torch.version.cuda):\", torch.version.cuda)\n",
    "print(\"CUDA available:\", torch.cuda.is_available())\n",
    "if torch.cuda.is_available():\n",
    "    print(\"GPU name:\", torch.cuda.get_device_name(0))\n",
    "    print(\"GPU capability:\", torch.cuda.get_device_capability(0))"
   ]
  },
  {
   "cell_type": "markdown",
   "id": "9df4153a",
   "metadata": {},
   "source": [
    "## Key package versions"
   ]
  },
  {
   "cell_type": "code",
   "execution_count": 3,
   "id": "38d9a4b1",
   "metadata": {},
   "outputs": [
    {
     "name": "stdout",
     "output_type": "stream",
     "text": [
      "{\n",
      "  \"transformers\": \"4.57.1\",\n",
      "  \"datasets\": \"4.2.0\",\n",
      "  \"accelerate\": \"1.10.1\",\n",
      "  \"peft\": \"0.17.1\",\n",
      "  \"trl\": \"0.24.0\",\n",
      "  \"evaluate\": \"0.4.6\",\n",
      "  \"pandas\": \"2.3.3\",\n",
      "  \"numpy\": \"2.1.2\",\n",
      "  \"scikit_learn\": \"NOT INSTALLED (No module named 'scikit_learn')\",\n",
      "  \"matplotlib\": \"3.10.7\",\n",
      "  \"seaborn\": \"0.13.2\",\n",
      "  \"tensorboard\": \"2.20.0\"\n",
      "}\n"
     ]
    }
   ],
   "source": [
    "import importlib, json\n",
    "pkgs = [\"transformers\",\"datasets\",\"accelerate\",\"peft\",\"trl\",\"evaluate\",\n",
    "        \"pandas\",\"numpy\",\"scikit_learn\",\"matplotlib\",\"seaborn\",\"tensorboard\"]\n",
    "vers = {}\n",
    "for p in pkgs:\n",
    "    try:\n",
    "        m = importlib.import_module(p.replace(\"-\",\"_\"))\n",
    "        vers[p] = getattr(m, \"__version__\", \"unknown\")\n",
    "    except Exception as e:\n",
    "        vers[p] = f\"NOT INSTALLED ({e})\"\n",
    "print(json.dumps(vers, indent=2))\n"
   ]
  }
 ],
 "metadata": {
  "kernelspec": {
   "display_name": "Python (psyche-R1)",
   "language": "python",
   "name": "psyche-r1"
  },
  "language_info": {
   "codemirror_mode": {
    "name": "ipython",
    "version": 3
   },
   "file_extension": ".py",
   "mimetype": "text/x-python",
   "name": "python",
   "nbconvert_exporter": "python",
   "pygments_lexer": "ipython3",
   "version": "3.10.19"
  }
 },
 "nbformat": 4,
 "nbformat_minor": 5
}
